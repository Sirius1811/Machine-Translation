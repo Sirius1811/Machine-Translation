{
 "cells": [
  {
   "cell_type": "code",
   "execution_count": 3,
   "metadata": {},
   "outputs": [],
   "source": [
    "from pathlib import Path\n",
    "import torch\n",
    "import torch.nn as nn\n",
    "from config import get_config, latest_weights_file_path\n",
    "from train import get_model, get_ds, run_validation"
   ]
  },
  {
   "cell_type": "code",
   "execution_count": 4,
   "metadata": {},
   "outputs": [
    {
     "name": "stdout",
     "output_type": "stream",
     "text": [
      "Using device: cuda\n",
      "Max length of source sentence: 309\n",
      "Max length of target sentence: 274\n"
     ]
    },
    {
     "data": {
      "text/plain": [
       "<All keys matched successfully>"
      ]
     },
     "execution_count": 4,
     "metadata": {},
     "output_type": "execute_result"
    }
   ],
   "source": [
    "# Define the device\n",
    "device = torch.device(\"cuda\" if torch.cuda.is_available() else \"cpu\")\n",
    "print(\"Using device:\", device)\n",
    "config = get_config()\n",
    "train_dataloader, val_dataloader, tokenizer_src, tokenizer_tgt = get_ds(config)\n",
    "model = get_model(config, tokenizer_src.get_vocab_size(), tokenizer_tgt.get_vocab_size()).to(device)\n",
    "\n",
    "# Load the pretrained weights\n",
    "model_filename = latest_weights_file_path(config)\n",
    "state = torch.load(model_filename)\n",
    "model.load_state_dict(state['model_state_dict'])"
   ]
  },
  {
   "cell_type": "code",
   "execution_count": 5,
   "metadata": {},
   "outputs": [
    {
     "name": "stdout",
     "output_type": "stream",
     "text": [
      "--------------------------------------------------------------------------------\n",
      "    SOURCE: 'I expect so.'\n",
      "    TARGET: — Dovrebb’esserci.\n",
      " PREDICTED: — Io penso che sia così .\n",
      "--------------------------------------------------------------------------------\n",
      "    SOURCE: When Kitty, in tears, had left the room, Dolly, with her motherly habit of mind, at once saw that here a woman's task lay before her, and prepared to fulfil it.\n",
      "    TARGET: Già da quando Kitty in lacrime era uscita dalla stanza, Dolly, con la sua esperienza materna, aveva sentito subito che c’era un’opera femminile da compiere, e si era accinta a compierla.\n",
      " PREDICTED: Quando Kitty , in su di lei , era entrato in camera sua , Dolly , con la sua abitudine , aveva sentito che una donna in lei una donna , la sua , prima volta , la sua amica , era venuta a fare .\n",
      "--------------------------------------------------------------------------------\n",
      "    SOURCE: Levin listened reluctantly and at first made objections.\n",
      "    TARGET: Levin ascoltava svogliato, e in principio fece delle obiezioni.\n",
      " PREDICTED: Levin ascoltava attentamente e la prima volta .\n",
      "--------------------------------------------------------------------------------\n",
      "    SOURCE: Even if it were unpleasant it would be still more unpleasant for me if you did not use my horses,' he said. 'You never told me definitely that you were going.\n",
      "    TARGET: E se anche ciò fosse mi spiace ancor più se tu non prendi i miei cavalli — egli diceva. — Non m’hai detto neppure una volta che eri decisa ad andare.\n",
      " PREDICTED: E se si fosse « Se non fosse più possibile » si fosse sempre più facile . — E voi non hai detto nulla — disse . — Tu hai detto che non hai mai detto .\n",
      "--------------------------------------------------------------------------------\n",
      "    SOURCE: 'Your brother is here,' he said rising. 'Excuse my not recognizing you before. Our acquaintance was so slight,' he said with a bow, 'that I am sure you do not remember me.'\n",
      "    TARGET: — Vostro fratello è qui — disse alzandosi in piedi. — Perdonatemi, non vi ho riconosciuto; ma già, la nostra conoscenza è stata così breve — disse Vronskij inchinandosi — che probabilmente voi non vi ricordate di me.\n",
      " PREDICTED: — La vostra azienda è qui — disse . — Non sei ancora più , — aggiunse , dopo aver detto , il nostro padrone — aggiunse , dopo aver preso il suo padrone .\n",
      "--------------------------------------------------------------------------------\n",
      "    SOURCE: \"Because I am comfortable there.\"\n",
      "    TARGET: — Perché ci sto bene.\n",
      " PREDICTED: — Perché sono stato così .\n",
      "--------------------------------------------------------------------------------\n",
      "    SOURCE: I only begged permission to sit down a moment, as I was tired.\n",
      "    TARGET: Allora la pregai di farmi sedere un momento perché ero stanca.\n",
      " PREDICTED: Io mi a sedere , perché ero stanca , perché ero stanca .\n",
      "--------------------------------------------------------------------------------\n",
      "    SOURCE: \"I beg your pardon, I hope you will forgive the liberty that we - perfect strangers in the neighbourhood - are taking, but my friend here and myself would be so much obliged if you would tell us how you caught that trout up there.\"\n",
      "    TARGET: — Scusate, spero perdonerete la libertà che noi forastieri in questo paese, ci prendiamo: ma il mio amico qui e io vi saremmo tanto obbligati se ci voleste dire quando acchiappaste quella trota lì.\n",
      " PREDICTED: — Vi prego , — risposi — che cosa vi l ’ altro che ci sia l ’ onore di essere l ’ altro , ma se ci sarà un gran buon buon umore che ci .\n",
      "--------------------------------------------------------------------------------\n",
      "    SOURCE: 'Ah, well! there's no time now,' added Koznyshev as the children came running in.\n",
      "    TARGET: — Eh sì, il resto a dopo, non c’è neanche tempo — soggiunse Sergej Ivanovic, vedendo i bambini venir fuori correndo.\n",
      " PREDICTED: — Ah , sì , non c ’ è tempo — disse Sergej Ivanovic , dopo aver preso a prendere il posto .\n",
      "--------------------------------------------------------------------------------\n",
      "    SOURCE: Levin turned away from him quickly and went far down one of the avenues, where he continued walking up and down alone.\n",
      "    TARGET: Levin si voltò in fretta e andò via in fondo al viale, continuando a camminare solo, avanti e indietro.\n",
      " PREDICTED: Levin si voltò a guardare , andò a sedere in un angolo , dove andava solo , e andò via .\n",
      "--------------------------------------------------------------------------------\n"
     ]
    }
   ],
   "source": [
    "run_validation(model, val_dataloader, tokenizer_src, tokenizer_tgt, config['seq_len'], device, lambda msg: print(msg), 0, None, num_examples=10)"
   ]
  },
  {
   "cell_type": "code",
   "execution_count": null,
   "metadata": {},
   "outputs": [],
   "source": [
    "t = translate(\"Why do I need to translate this?\")"
   ]
  },
  {
   "cell_type": "code",
   "execution_count": null,
   "metadata": {},
   "outputs": [],
   "source": [
    "t = translate(34)"
   ]
  }
 ],
 "metadata": {
  "kernelspec": {
   "display_name": "transformer",
   "language": "python",
   "name": "python3"
  },
  "language_info": {
   "codemirror_mode": {
    "name": "ipython",
    "version": 3
   },
   "file_extension": ".py",
   "mimetype": "text/x-python",
   "name": "python",
   "nbconvert_exporter": "python",
   "pygments_lexer": "ipython3",
   "version": "3.12.2"
  },
  "orig_nbformat": 4
 },
 "nbformat": 4,
 "nbformat_minor": 2
}
